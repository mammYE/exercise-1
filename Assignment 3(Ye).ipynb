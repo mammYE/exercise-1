{
 "cells": [
  {
   "cell_type": "markdown",
   "id": "8e48c255-40f3-410f-be36-95e10a92f060",
   "metadata": {},
   "source": [
    "# Assignment 3"
   ]
  },
  {
   "cell_type": "markdown",
   "id": "819a855a-0de5-47d0-a029-433b701872d6",
   "metadata": {},
   "source": [
    "## Ye Mann Aung"
   ]
  },
  {
   "cell_type": "markdown",
   "id": "dbf9f9bb-a843-4f38-86a8-8e3d9eec7aae",
   "metadata": {},
   "source": [
    "## September 14th 2025"
   ]
  },
  {
   "cell_type": "markdown",
   "id": "4f8f8285-3dbc-473b-a7d9-9429051e2d68",
   "metadata": {},
   "source": [
    "1. Write a lambda expression to get the product of two numbers. \n",
    "Run test for expression(5,6) \n",
    "Output: 30"
   ]
  },
  {
   "cell_type": "code",
   "execution_count": 1,
   "id": "08ae7b1f-b1bb-4742-9a32-b8a1f3b8e890",
   "metadata": {},
   "outputs": [
    {
     "name": "stdout",
     "output_type": "stream",
     "text": [
      "Output: 30\n"
     ]
    }
   ],
   "source": [
    "# Exercise 1 lambda for product of two number\n",
    "lambda_function = lambda x, y: x * y\n",
    "\n",
    "#Test the product\n",
    "print(\"Output:\", lambda_function(5, 6))"
   ]
  },
  {
   "cell_type": "markdown",
   "id": "02d19d7b-a6ca-48a7-9d47-de7aff1c9fad",
   "metadata": {},
   "source": [
    "2. Write a function to get the area of a circle from the radius.  \n",
    "Hint: remember to import the right modul for being able to calculte the area of the circle. \n",
    "Run test for function(10) \n",
    "Output: 314.1592653589793"
   ]
  },
  {
   "cell_type": "code",
   "execution_count": 1,
   "id": "44460693-3942-4631-af36-901a7d8769d8",
   "metadata": {},
   "outputs": [
    {
     "name": "stdout",
     "output_type": "stream",
     "text": [
      "Output: 314.1592653589793\n"
     ]
    }
   ],
   "source": [
    "# Exercise 2 Function for the Area\n",
    "\n",
    "import math\n",
    "\n",
    "def circle_area(radius):\n",
    "    area = math.pi * (radius ** 2)\n",
    "    return area\n",
    "#Test the function\n",
    "print(\"Output:\", circle_area(10))\n"
   ]
  },
  {
   "cell_type": "markdown",
   "id": "aaaf50fb-68a2-4825-af31-69b3ad2f2583",
   "metadata": {},
   "source": [
    "3. Build a simple calculator which can: add, subtract, multiply, divide.  \n",
    "Hint: solve by writing a function that takes as argument two numbers and the operation and \n",
    "returns the desired output. \n",
    "Run test for function(2,5,’d’) \n",
    "Output: 0.4"
   ]
  },
  {
   "cell_type": "code",
   "execution_count": 3,
   "id": "e103322b-2178-4c12-b0e0-c8251deb93b6",
   "metadata": {},
   "outputs": [
    {
     "name": "stdout",
     "output_type": "stream",
     "text": [
      "Output: 0.4\n"
     ]
    }
   ],
   "source": [
    "# Exercise 3 Simple Calculator function\n",
    "\n",
    "def calculator(a, b, operation):\n",
    "    operation = operation.lower() #Make the operation letter case insensitive\n",
    "    if operation == 'a': #Addition\n",
    "        return a + b\n",
    "    elif operation == 's': #Subraction\n",
    "        return a - b\n",
    "    elif operation == 'm': #Multiplication\n",
    "        return a * b\n",
    "    elif operation == 'd': # Dividion\n",
    "        return a / b\n",
    "    else:\n",
    "        return \"Invalid Operation\"\n",
    "#Test the calculator\n",
    "print(\"Output:\", calculator(2, 5, 'd'))\n"
   ]
  },
  {
   "cell_type": "markdown",
   "id": "7caad8f7-0651-4128-a473-682579ffcc59",
   "metadata": {},
   "source": [
    "4. Define a class named Rectangle which can be constructed by a length and width. \n",
    "The Rectangle class has a method which can compute the area. \n",
    "Run test for     r = Rectangle(5,10) \n",
    "r.area() \n",
    "Output: 50"
   ]
  },
  {
   "cell_type": "code",
   "execution_count": 4,
   "id": "428c827a-7c09-4434-bd60-4168c4ed7119",
   "metadata": {},
   "outputs": [
    {
     "name": "stdout",
     "output_type": "stream",
     "text": [
      "Output: 50\n"
     ]
    }
   ],
   "source": [
    "# Exercise 4 Rectangle Class\n",
    "\n",
    "class Rectangle:\n",
    "    def __init__(self, length, width):  # Length and width are perimeter\n",
    "        self.length = length\n",
    "        self.width = width\n",
    "\n",
    "    def area(self):\n",
    "        return self.length * self.width\n",
    "\n",
    "# Test the class\n",
    "r = Rectangle(5, 10)\n",
    "print(\"Output:\", r.area())"
   ]
  },
  {
   "cell_type": "markdown",
   "id": "07c5bf10-55bb-4067-b997-508186887949",
   "metadata": {},
   "source": [
    "5. Define a class named Shape and its subclass Square. \n",
    "Shape objects can be consrtucted by name and length has an area function wich return 0 \n",
    "Square subclass has an init function which take a length and name as argument and has an \n",
    "area method and a describe method what prints the name of the Shape. \n",
    "Print the area from Square class. \n",
    "Run test for:    s = Square('square',5) \n",
    "print(s.area()) \n",
    "print(s.describe()) \n",
    "Output:     The area is:  \n",
    "25 \n",
    "This is a: square"
   ]
  },
  {
   "cell_type": "code",
   "execution_count": 13,
   "id": "4e0282f1-74da-48b8-ada7-f5eb534c8fc4",
   "metadata": {},
   "outputs": [
    {
     "name": "stdout",
     "output_type": "stream",
     "text": [
      "The area is:\n",
      "25\n",
      "This is a: square\n"
     ]
    }
   ],
   "source": [
    "# Exercise 5 Shape and Shape Class\n",
    "\n",
    "class Shape:\n",
    "    def __init__(self, name):\n",
    "        self.name = name\n",
    "\n",
    "    def area(self):\n",
    "        return 0\n",
    "\n",
    "class Square(Shape):\n",
    "    def __init__(self, name, length):\n",
    "        super().__init__(name) # Initialize the parent Shape class\n",
    "        self.length = length\n",
    "\n",
    "    def area(self):\n",
    "        return self.length ** 2\n",
    "\n",
    "    def describe(self):\n",
    "        return f\"This is a: {self.name}\"\n",
    "\n",
    "# Test the classes\n",
    "s = Square('square', 5)\n",
    "print(\"The area is:\")\n",
    "print(s.area())\n",
    "print(s.describe())"
   ]
  }
 ],
 "metadata": {
  "kernelspec": {
   "display_name": "Python [conda env:base] *",
   "language": "python",
   "name": "conda-base-py"
  },
  "language_info": {
   "codemirror_mode": {
    "name": "ipython",
    "version": 3
   },
   "file_extension": ".py",
   "mimetype": "text/x-python",
   "name": "python",
   "nbconvert_exporter": "python",
   "pygments_lexer": "ipython3",
   "version": "3.13.5"
  }
 },
 "nbformat": 4,
 "nbformat_minor": 5
}
